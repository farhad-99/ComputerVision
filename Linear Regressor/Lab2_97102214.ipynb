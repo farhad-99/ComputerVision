{
 "cells": [
  {
   "cell_type": "code",
   "execution_count": 2,
   "id": "6c8165bb",
   "metadata": {},
   "outputs": [],
   "source": [
    "import numpy as np\n",
    "import pandas as pd"
   ]
  },
  {
   "cell_type": "markdown",
   "id": "38250980",
   "metadata": {},
   "source": [
    "\n",
    "<div align=right>\n",
    "<font face=\"XB Niloofar\">\n",
    "<font size=6 ,bold>\n",
    "بخش اول:\n",
    "<p></p>\n",
    "<font size=4>\n",
    "ابتدا داده ها را می خوانیم \n",
    "داده ها بصورت زیر می باشند"
   ]
  },
  {
   "cell_type": "code",
   "execution_count": 10,
   "id": "0a62a8d1",
   "metadata": {},
   "outputs": [
    {
     "data": {
      "text/html": [
       "<div>\n",
       "<style scoped>\n",
       "    .dataframe tbody tr th:only-of-type {\n",
       "        vertical-align: middle;\n",
       "    }\n",
       "\n",
       "    .dataframe tbody tr th {\n",
       "        vertical-align: top;\n",
       "    }\n",
       "\n",
       "    .dataframe thead th {\n",
       "        text-align: right;\n",
       "    }\n",
       "</style>\n",
       "<table border=\"1\" class=\"dataframe\">\n",
       "  <thead>\n",
       "    <tr style=\"text-align: right;\">\n",
       "      <th></th>\n",
       "      <th>radiation</th>\n",
       "      <th>temperature</th>\n",
       "      <th>wind</th>\n",
       "      <th>ozone</th>\n",
       "    </tr>\n",
       "  </thead>\n",
       "  <tbody>\n",
       "    <tr>\n",
       "      <th>0</th>\n",
       "      <td>190</td>\n",
       "      <td>67</td>\n",
       "      <td>7.4</td>\n",
       "      <td>41</td>\n",
       "    </tr>\n",
       "    <tr>\n",
       "      <th>1</th>\n",
       "      <td>118</td>\n",
       "      <td>72</td>\n",
       "      <td>8.0</td>\n",
       "      <td>36</td>\n",
       "    </tr>\n",
       "    <tr>\n",
       "      <th>2</th>\n",
       "      <td>149</td>\n",
       "      <td>74</td>\n",
       "      <td>12.6</td>\n",
       "      <td>12</td>\n",
       "    </tr>\n",
       "    <tr>\n",
       "      <th>3</th>\n",
       "      <td>313</td>\n",
       "      <td>62</td>\n",
       "      <td>11.5</td>\n",
       "      <td>18</td>\n",
       "    </tr>\n",
       "    <tr>\n",
       "      <th>4</th>\n",
       "      <td>299</td>\n",
       "      <td>65</td>\n",
       "      <td>8.6</td>\n",
       "      <td>23</td>\n",
       "    </tr>\n",
       "    <tr>\n",
       "      <th>...</th>\n",
       "      <td>...</td>\n",
       "      <td>...</td>\n",
       "      <td>...</td>\n",
       "      <td>...</td>\n",
       "    </tr>\n",
       "    <tr>\n",
       "      <th>106</th>\n",
       "      <td>20</td>\n",
       "      <td>63</td>\n",
       "      <td>16.6</td>\n",
       "      <td>14</td>\n",
       "    </tr>\n",
       "    <tr>\n",
       "      <th>107</th>\n",
       "      <td>193</td>\n",
       "      <td>70</td>\n",
       "      <td>6.9</td>\n",
       "      <td>30</td>\n",
       "    </tr>\n",
       "    <tr>\n",
       "      <th>108</th>\n",
       "      <td>191</td>\n",
       "      <td>75</td>\n",
       "      <td>14.3</td>\n",
       "      <td>14</td>\n",
       "    </tr>\n",
       "    <tr>\n",
       "      <th>109</th>\n",
       "      <td>131</td>\n",
       "      <td>76</td>\n",
       "      <td>8.0</td>\n",
       "      <td>18</td>\n",
       "    </tr>\n",
       "    <tr>\n",
       "      <th>110</th>\n",
       "      <td>223</td>\n",
       "      <td>68</td>\n",
       "      <td>11.5</td>\n",
       "      <td>20</td>\n",
       "    </tr>\n",
       "  </tbody>\n",
       "</table>\n",
       "<p>111 rows × 4 columns</p>\n",
       "</div>"
      ],
      "text/plain": [
       "     radiation  temperature  wind  ozone\n",
       "0          190           67   7.4     41\n",
       "1          118           72   8.0     36\n",
       "2          149           74  12.6     12\n",
       "3          313           62  11.5     18\n",
       "4          299           65   8.6     23\n",
       "..         ...          ...   ...    ...\n",
       "106         20           63  16.6     14\n",
       "107        193           70   6.9     30\n",
       "108        191           75  14.3     14\n",
       "109        131           76   8.0     18\n",
       "110        223           68  11.5     20\n",
       "\n",
       "[111 rows x 4 columns]"
      ]
     },
     "execution_count": 10,
     "metadata": {},
     "output_type": "execute_result"
    }
   ],
   "source": [
    "data = pd.read_csv('ozon.csv')\n",
    "data"
   ]
  },
  {
   "cell_type": "markdown",
   "id": "7c9dfe8b",
   "metadata": {},
   "source": [
    "\n",
    "<div align=right>\n",
    "<font face=\"XB Niloofar\">\n",
    "<font size=6 ,bold>\n",
    "<p></p>\n",
    "<font size=4>\n",
    "سپس داده ها را جدا میکنیم:"
   ]
  },
  {
   "cell_type": "code",
   "execution_count": 11,
   "id": "e9c123dc",
   "metadata": {},
   "outputs": [
    {
     "name": "stdout",
     "output_type": "stream",
     "text": [
      "(88, 3)\n",
      "(23, 3)\n"
     ]
    }
   ],
   "source": [
    "from sklearn.model_selection import train_test_split\n",
    "\n",
    "y = data.ozone\n",
    "X = data[['radiation','temperature','wind']]\n",
    "X_train, X_test, y_train, y_test = train_test_split(X, y, test_size=0.2, random_state=42)\n",
    "\n",
    "print(X_train.shape)\n",
    "print(X_test.shape)\n"
   ]
  },
  {
   "cell_type": "markdown",
   "id": "1d58781b",
   "metadata": {},
   "source": [
    "\n",
    "<div align=right>\n",
    "<font face=\"XB Niloofar\">\n",
    "<font size=4>\n",
    "حال یک رگرسیون آموزش می دهیم و خطای داده ها اموزش و تست به صورت زیر می شود"
   ]
  },
  {
   "cell_type": "code",
   "execution_count": 13,
   "id": "1695655b",
   "metadata": {},
   "outputs": [
    {
     "name": "stdout",
     "output_type": "stream",
     "text": [
      "reg.coef: [ 0.06339674  1.6229136  -3.45349018]\n",
      "mean square error for train: 481.62978844934446\n",
      "mean square error for test: 245.17289877643472\n"
     ]
    }
   ],
   "source": [
    "from sklearn.linear_model import LinearRegression\n",
    "from sklearn.metrics import mean_squared_error\n",
    "\n",
    "reg = LinearRegression().fit(X_train,y_train)\n",
    "reg.score(X_train, y_train)\n",
    "\n",
    "y_test_pred = reg.predict(X_test)\n",
    "y_train_pred = reg.predict(X_train)\n",
    "\n",
    "mean_sq_train = mean_squared_error(y_train_pred,y_train)\n",
    "mean_sq_test = mean_squared_error(y_test_pred,y_test)\n",
    "\n",
    "\n",
    "print('reg.coef:',reg.coef_)\n",
    "print('mean square error for train:',mean_sq_train)\n",
    "print('mean square error for test:',mean_sq_test)"
   ]
  },
  {
   "cell_type": "markdown",
   "id": "9d85d645",
   "metadata": {},
   "source": [
    "\n",
    "<div align=right>\n",
    "<font face=\"XB Niloofar\">\n",
    "\n",
    "<font size=4>\n",
    "اکنون به داده ها با واریانس های گوناگون نویز اضافه می کنیم \n",
    "در پایین می توانید نمودار خطا آموزش و تست را مشاهده می کنید"
   ]
  },
  {
   "cell_type": "code",
   "execution_count": 15,
   "id": "37b9115e",
   "metadata": {},
   "outputs": [
    {
     "data": {
      "text/plain": [
       "<matplotlib.legend.Legend at 0x17c0428f0d0>"
      ]
     },
     "execution_count": 15,
     "metadata": {},
     "output_type": "execute_result"
    },
    {
     "data": {
      "image/png": "[encoded data removed]",
      "text/plain": [
       "<Figure size 432x288 with 1 Axes>"
      ]
     },
     "metadata": {
      "needs_background": "light"
     },
     "output_type": "display_data"
    }
   ],
   "source": [
    "import matplotlib.pyplot as plt\n",
    "mean_sq_train=[]\n",
    "mean_sq_test = []\n",
    "\n",
    "for sigma in range (50):\n",
    "    noise1 = np.random.normal(0,sigma,y_train.shape[0])\n",
    "    noise2 = np.random.normal(0,sigma,y_test.shape[0])\n",
    "\n",
    "    y_train_new = y_train + noise1\n",
    "    y_test_new = y_test + noise2\n",
    "\n",
    "    reg = LinearRegression().fit(X_train,y_train_new)\n",
    "\n",
    "    y_test_pred = reg.predict(X_test)\n",
    "    y_train_pred = reg.predict(X_train)\n",
    "\n",
    "    mean_sq_train.append(mean_squared_error(y_train_pred,y_train_new))\n",
    "    mean_sq_test.append(mean_squared_error(y_test_pred,y_test_new))\n",
    "\n",
    "mean_sq_train = np.array(mean_sq_train)\n",
    "mean_sq_test = np.array(mean_sq_test)\n",
    "\n",
    "sigma = np.arange(0,50)\n",
    "\n",
    "plt.plot(sigma,mean_sq_train)\n",
    "plt.plot(sigma,mean_sq_test)\n",
    "plt.legend(['train ', 'test '])\n"
   ]
  },
  {
   "cell_type": "markdown",
   "id": "f88987c0",
   "metadata": {},
   "source": [
    "\n",
    "<div align=right>\n",
    "<font face=\"XB Niloofar\">\n",
    "<font size=4>\n",
    "که با زیاد تر شدن واریانس،هر دو خطا زیادتر می شود\n",
    "    <p></p>\n",
    "\n",
    "<font size=4>\n",
    "    حال توان دو را به داده ها اضافه می کنیم"
   ]
  },
  {
   "cell_type": "code",
   "execution_count": 138,
   "id": "fb7540bb",
   "metadata": {},
   "outputs": [
    {
     "name": "stdout",
     "output_type": "stream",
     "text": [
      "(111, 6)\n",
      "(111, 3)\n",
      "reg.coef: [-2.51375082e-04  6.54632484e-02  6.16689081e-01  1.49401472e-01\n",
      " -8.51130784e+00 -1.72817607e+01]\n",
      "mean square error for train: 301.0731846497042\n",
      "mean square error for test: 479.9838582350011\n"
     ]
    }
   ],
   "source": [
    "new_X = np.append(X*X,X,axis = 1)\n",
    "print(new_X.shape)\n",
    "print(X.shape)\n",
    "X_train, X_test, y_train, y_test = train_test_split(new_X, y, test_size=0.2, random_state=42)\n",
    "reg1 = LinearRegression().fit(X_train,y_train)\n",
    "reg1.score(X_train, y_train)\n",
    "\n",
    "y_test_pred = reg1.predict(X_test)\n",
    "y_train_pred = reg1.predict(X_train)\n",
    "\n",
    "mean_sq_train = mean_squared_error(y_train_pred,y_train)\n",
    "mean_sq_test = mean_squared_error(y_test_pred,y_test)\n",
    "\n",
    "print('reg.coef:',reg1.coef_)\n",
    "print('mean square error for train:',mean_sq_train)\n",
    "print('mean square error for test:',mean_sq_test)"
   ]
  },
  {
   "cell_type": "markdown",
   "id": "f1f3f93f",
   "metadata": {},
   "source": [
    "\n",
    "<div align=right>\n",
    "<font face=\"XB Niloofar\">\n",
    "<font size=4>\n",
    "مشاهده می کنیم که برخلاف قسمت قبل خطای آموزش کمتر از خطای تست می باشد که نشان دهنده این می باشد که شبکه دچار اورفیت نشده اند  "
   ]
  },
  {
   "cell_type": "markdown",
   "id": "a44fc2cf",
   "metadata": {},
   "source": [
    "\n",
    "<div align=right>\n",
    "<font face=\"XB Niloofar\">\n",
    "<font size=6 ,bold>\n",
    "بخش دوم:\n",
    "<p></p>\n",
    "<font size=4>\n",
    "ابتدا داده ها را می خوانیم \n",
    "و داده صورت افراد مختلف را به هم وصل میکنیم"
   ]
  },
  {
   "cell_type": "code",
   "execution_count": 3,
   "id": "b4b46801",
   "metadata": {},
   "outputs": [],
   "source": [
    "import os\n",
    "from skimage import io,color\n",
    "\n",
    "X_train = []\n",
    "X_test = []\n",
    "y_train = []\n",
    "y_test = []\n",
    "path ='surprise videos'\n",
    "counter =0\n",
    "for folder in os.listdir(path):\n",
    "    if counter < 18:\n",
    "        dir = path +'\\\\'+ folder\n",
    "        size = len(os.listdir(dir))\n",
    "        y_sub = np.linspace(0,1,size)\n",
    "        i= 0\n",
    "        for file in os.listdir(dir):\n",
    "            img = io.imread(dir+ \"\\\\\"+ file,as_gray=True)\n",
    "            rows,cols = img.shape\n",
    "            img_size = rows * cols\n",
    "            img_1d = img.reshape(img_size)\n",
    "            X_train.append(img_1d)\n",
    "            y_train.append(y_sub[i])\n",
    "            i +=1\n",
    "    else:\n",
    "        dir = path +'\\\\'+ folder\n",
    "        size = len(os.listdir(dir))\n",
    "        y_sub = np.linspace(0,1,size)\n",
    "        i= 0\n",
    "        for file in os.listdir(dir):\n",
    "            img = io.imread(dir+ \"\\\\\"+ file,as_gray=True)\n",
    "            rows,cols = img.shape\n",
    "            img_size = rows * cols\n",
    "            img_1d = img.reshape(img_size)\n",
    "            X_test.append(img_1d)\n",
    "            y_test.append(y_sub[i])\n",
    "            i +=1\n",
    "    counter +=1"
   ]
  },
  {
   "cell_type": "markdown",
   "id": "e4eb64bb",
   "metadata": {},
   "source": [
    "\n",
    "<div align=right>\n",
    "<font face=\"XB Niloofar\">\n",
    "\n",
    "<font size=4>\n",
    "حال داده ها را جدا می کنیم"
   ]
  },
  {
   "cell_type": "code",
   "execution_count": null,
   "id": "c18b83e3",
   "metadata": {},
   "outputs": [],
   "source": [
    "X_train = np.array(X_train)\n",
    "y_train = np.array(y_train)\n",
    "X_test = np.array(X_test)\n",
    "y_test = np.array(y_test)\n",
    "print(X_train.shape , y_train.shape)\n",
    "print(X_test.shape , y_test.shape)"
   ]
  },
  {
   "cell_type": "code",
   "execution_count": null,
   "id": "f514d028",
   "metadata": {},
   "outputs": [],
   "source": [
    "reg = LinearRegression().fit(X_train,y_train)\n",
    "reg.score(X_train, y_train)\n",
    "\n",
    "y_test_pred = reg.predict(X_test)\n",
    "y_train_pred = reg.predict(X_train)\n",
    "\n",
    "mean_sq_train = mean_squared_error(y_train_pred,y_train)\n",
    "mean_sq_test = mean_squared_error(y_test_pred,y_test)"
   ]
  },
  {
   "cell_type": "code",
   "execution_count": 124,
   "id": "b7429065",
   "metadata": {},
   "outputs": [
    {
     "name": "stdout",
     "output_type": "stream",
     "text": [
      "reg.coef: [ 1.58206977e-06 -9.05306954e-07  6.43236670e-07 ...  0.00000000e+00\n",
      "  0.00000000e+00  0.00000000e+00]\n",
      "mean square error for train: 3.080179286395986e-29\n",
      "mean square error for test: 0.09096258091300297\n"
     ]
    }
   ],
   "source": [
    "print('reg.coef:',reg.coef_)\n",
    "print('mean square error for train:',mean_sq_train)\n",
    "print('mean square error for test:',mean_sq_test)"
   ]
  },
  {
   "cell_type": "markdown",
   "id": "41a7ad3c",
   "metadata": {},
   "source": [
    "\n",
    "<div align=right>\n",
    "<font face=\"XB Niloofar\">\n",
    "<font size=4>\n",
    " مشاهده می کنیم که خطای اموزش نزدیک به صفر که نشان می دهد که اموزش امکان پذیر نمی باشد. در بعضی از سیستم ها هم این مرحله دچار کرش می شود\n",
    "    <p><p>\n",
    "حال ماسک رو اعمال می کنیم"
   ]
  },
  {
   "cell_type": "code",
   "execution_count": 126,
   "id": "4d077fd2",
   "metadata": {},
   "outputs": [],
   "source": [
    "X_train = []\n",
    "X_test = []\n",
    "y_train = []\n",
    "y_test = []\n",
    "path ='surprise videos'\n",
    "counter =0\n",
    "for folder in os.listdir(path):\n",
    "    if counter < 18:\n",
    "        dir = path +'\\\\'+ folder\n",
    "        size = len(os.listdir(dir))\n",
    "        y_sub = np.linspace(0,1,size)\n",
    "        i= 0\n",
    "        for file in os.listdir(dir):\n",
    "            img = io.imread(dir+ \"\\\\\"+ file,as_gray=True)[150:700,380:820]\n",
    "            rows,cols = img.shape\n",
    "            img_size = rows * cols\n",
    "            img_1d = img.reshape(img_size)\n",
    "            X_train.append(img_1d)\n",
    "            y_train.append(y_sub[i])\n",
    "            i +=1\n",
    "    else:\n",
    "        dir = path +'\\\\'+ folder\n",
    "        size = len(os.listdir(dir))\n",
    "        y_sub = np.linspace(0,1,size)\n",
    "        i= 0\n",
    "        for file in os.listdir(dir):\n",
    "            img = io.imread(dir+ \"\\\\\"+ file,as_gray=True)[150:700,380:820]\n",
    "            rows,cols = img.shape\n",
    "            img_size = rows * cols\n",
    "            img_1d = img.reshape(img_size)\n",
    "            X_test.append(img_1d)\n",
    "            y_test.append(y_sub[i])\n",
    "            i +=1\n",
    "    counter +=1"
   ]
  },
  {
   "cell_type": "code",
   "execution_count": 127,
   "id": "c92a043c",
   "metadata": {},
   "outputs": [
    {
     "name": "stdout",
     "output_type": "stream",
     "text": [
      "(453, 242000) (453,)\n",
      "(180, 242000) (180,)\n"
     ]
    }
   ],
   "source": [
    "X_train = np.array(X_train)\n",
    "y_train = np.array(y_train)\n",
    "X_test = np.array(X_test)\n",
    "y_test = np.array(y_test)\n",
    "print(X_train.shape , y_train.shape)\n",
    "print(X_test.shape , y_test.shape)"
   ]
  },
  {
   "cell_type": "code",
   "execution_count": 129,
   "id": "b26e0cb7",
   "metadata": {},
   "outputs": [
    {
     "name": "stdout",
     "output_type": "stream",
     "text": [
      "reg.coef: [-7.53516559e-05 -4.23646447e-04 -4.45011256e-04 ... -8.70736054e-04\n",
      " -8.70736054e-04 -9.33742448e-04]\n",
      "mean square error for train: 2.807649740572779e-29\n",
      "mean square error for test: 0.11915504680722501\n"
     ]
    }
   ],
   "source": [
    "reg = LinearRegression().fit(X_train,y_train)\n",
    "reg.score(X_train, y_train)\n",
    "\n",
    "y_test_pred = reg.predict(X_test)\n",
    "y_train_pred = reg.predict(X_train)\n",
    "\n",
    "mean_sq_train = mean_squared_error(y_train_pred,y_train)\n",
    "mean_sq_test = mean_squared_error(y_test_pred,y_test)\n",
    "print('reg.coef:',reg.coef_)\n",
    "print('mean square error for train:',mean_sq_train)\n",
    "print('mean square error for test:',mean_sq_test)"
   ]
  },
  {
   "cell_type": "code",
   "execution_count": null,
   "id": "6a7f9375",
   "metadata": {},
   "outputs": [],
   "source": [
    "\n",
    "<div align=right>\n",
    "<font face=\"XB Niloofar\">\n",
    "<font size=4>\n",
    " مشاهده می کنیم که خطای اموزش نزدیک به صفر که نشان می دهد که اموزش امکان پذیر می باشد ولی احتمالا به خوبی اموزش ندیده است گرچه نسبت به حالت قبل چون داده ها کمتر شده بهتر است\n",
    "    <p><p>\n",
    "حال پی سی ای رو اعمال می کنیم"
   ]
  },
  {
   "cell_type": "code",
   "execution_count": 133,
   "id": "468dd479",
   "metadata": {},
   "outputs": [
    {
     "name": "stdout",
     "output_type": "stream",
     "text": [
      "reg.coef: [ 8.45774699e-05  1.54132674e-03  1.35194482e-03 -3.23073809e-03\n",
      " -3.99951293e-04  1.12329401e-03 -2.04145764e-03 -9.55581427e-04\n",
      "  6.63759531e-03  8.19676350e-03 -3.04864176e-03  3.27285993e-03\n",
      "  3.45641278e-04 -6.26934563e-04 -1.21234623e-03  4.30191549e-03\n",
      " -5.07491305e-05 -3.39420239e-03 -1.35700808e-03  2.05786676e-03\n",
      " -7.09325761e-03 -1.04345382e-02  5.50210902e-04 -1.15140799e-02\n",
      "  9.76134013e-04  4.47926238e-03 -5.66123917e-03  1.08957422e-03\n",
      " -4.10751977e-03  1.16437477e-02  7.30076074e-05 -6.16096513e-03\n",
      " -3.84551016e-03 -4.66613285e-03  5.38836392e-03 -1.10296574e-03\n",
      "  1.51085947e-02 -4.22616657e-04 -3.94634681e-03 -3.18414703e-03\n",
      " -1.87811253e-03  1.51920070e-03 -1.99491615e-03 -5.42652758e-04\n",
      " -6.61217349e-04 -1.11675717e-02 -2.92749734e-04  1.24257019e-02\n",
      " -1.08792514e-02 -2.80856017e-03]\n",
      "mean square error for train: 0.010838298340215213\n",
      "mean square error for test: 0.07640369357917663\n"
     ]
    }
   ],
   "source": [
    "from sklearn.decomposition import PCA\n",
    "pca = PCA(n_components=50)\n",
    "pca.fit(X_train)\n",
    "X_train_reduce = pca.transform(X_train)\n",
    "X_test_reduce = pca.transform(X_test)\n",
    "\n",
    "reg = LinearRegression().fit(X_train_reduce,y_train)\n",
    "reg.score(X_train_reduce, y_train)\n",
    "\n",
    "y_test_pred = reg.predict(X_test_reduce)\n",
    "y_train_pred = reg.predict(X_train_reduce)\n",
    "\n",
    "mean_sq_train = mean_squared_error(y_train_pred,y_train)\n",
    "mean_sq_test = mean_squared_error(y_test_pred,y_test)\n",
    "print('reg.coef:',reg.coef_)\n",
    "print('mean square error for train:',mean_sq_train)\n",
    "print('mean square error for test:',mean_sq_test)"
   ]
  },
  {
   "cell_type": "markdown",
   "id": "026b04eb",
   "metadata": {},
   "source": [
    "\n",
    "<div align=right>\n",
    "<font face=\"XB Niloofar\">\n",
    "<font size=4>\n",
    "در این حالت به یک خطای اموزش و تست منطقی و قابل قبول رسیدیم که نشان دهنده درست بودن اموزش ما با تعداد داده ها می باشد"
   ]
  },
  {
   "cell_type": "code",
   "execution_count": null,
   "id": "25232572",
   "metadata": {},
   "outputs": [],
   "source": []
  }
 ],
 "metadata": {
  "kernelspec": {
   "display_name": "Python 3",
   "language": "python",
   "name": "python3"
  },
  "language_info": {
   "codemirror_mode": {
    "name": "ipython",
    "version": 3
   },
   "file_extension": ".py",
   "mimetype": "text/x-python",
   "name": "python",
   "nbconvert_exporter": "python",
   "pygments_lexer": "ipython3",
   "version": "3.8.8"
  }
 },
 "nbformat": 4,
 "nbformat_minor": 5
}
