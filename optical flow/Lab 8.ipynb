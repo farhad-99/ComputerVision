{
 "cells": [
  {
   "cell_type": "code",
   "execution_count": 17,
   "id": "1f1d0d75",
   "metadata": {},
   "outputs": [],
   "source": [
    "import cv2\n",
    "import numpy as np\n",
    "import matplotlib.pyplot as plt\n",
    "from sklearn.metrics import accuracy_score\n",
    "from sklearn.model_selection import train_test_split\n",
    "from sklearn import svm\n",
    "from sklearn.model_selection import GridSearchCV\n",
    "from sklearn.preprocessing import StandardScaler\n",
    "import skimage.io as io\n",
    "import os\n"
   ]
  },
  {
   "cell_type": "markdown",
   "id": "5e75efbd",
   "metadata": {
    "direction": "rtl"
   },
   "source": [
    "## Dense\n",
    "برای پیاده سازی حالت دنس مطابق راهنمای خود اوپن سیوی عمل میکنیم.ابتدا تفاوت دو فریم را محاسبه کرده،سپس اندازه و زاویه انرا در نظر میگیریم و انرا به فضای اچ اس وی میبریم و در ان فضا شارنوری را نمایش میدهیم."
   ]
  },
  {
   "cell_type": "code",
   "execution_count": null,
   "id": "832edeaf",
   "metadata": {},
   "outputs": [],
   "source": [
    "cap = cv2.VideoCapture('test.mp4')\n",
    "ret, frame1 = cap.read()\n",
    "prvs = cv2.cvtColor(frame1, cv2.COLOR_BGR2GRAY)\n",
    "hsv = np.zeros_like(frame1)\n",
    "hsv[..., 1] = 255\n",
    "while(1):\n",
    "    ret, frame2 = cap.read()\n",
    "    if not ret:\n",
    "        break\n",
    "    next = cv2.cvtColor(frame2, cv2.COLOR_BGR2GRAY)\n",
    "    flow = cv2.calcOpticalFlowFarneback(prvs, next, None, 0.5, 3, 15, 3, 5, 1.2, 0)\n",
    "    mag, ang = cv2.cartToPolar(flow[..., 0], flow[..., 1])\n",
    "    hsv[..., 0] = ang*180/np.pi/2\n",
    "    hsv[..., 2] = cv2.normalize(mag, None, 0, 255, cv2.NORM_MINMAX)\n",
    "    bgr = cv2.cvtColor(hsv, cv2.COLOR_HSV2BGR)\n",
    "    cv2.imshow('frame2', bgr)\n",
    "    k = cv2.waitKey(30) & 0xff\n",
    "    if k == 27:\n",
    "        break\n",
    "    \n",
    "    prvs = next\n",
    "cv2.destroyAllWindows()"
   ]
  },
  {
   "cell_type": "markdown",
   "id": "cf6eaa06",
   "metadata": {},
   "source": [
    "## Sparse\n",
    "برای این حالت ابتدا یک سری نقاط کلیدی استخراج میکنیم، سپس این نقاط را در تصویر رصد میکنیم و خطوط واصل را در طول مسیر برای انها رسم میکنیم."
   ]
  },
  {
   "cell_type": "code",
   "execution_count": null,
   "id": "72a93f52",
   "metadata": {},
   "outputs": [],
   "source": [
    "cap = cv2.VideoCapture('test.mp4')\n",
    "\n",
    "feature_params = dict( maxCorners = 100,\n",
    "                       qualityLevel = 0.3,\n",
    "                       minDistance = 7,\n",
    "                       blockSize = 7 )\n",
    "\n",
    "lk_params = dict( winSize  = (15, 15),\n",
    "                  maxLevel = 2,\n",
    "                  criteria = (cv2.TERM_CRITERIA_EPS | cv2.TERM_CRITERIA_COUNT, 10, 0.03))\n",
    "# Create some random colors\n",
    "color = np.random.randint(0, 255, (100, 3))\n",
    "# Take first frame and find corners in it\n",
    "ret, old_frame = cap.read()\n",
    "old_gray = cv2.cvtColor(old_frame, cv2.COLOR_BGR2GRAY)\n",
    "p0 = cv2.goodFeaturesToTrack(old_gray, mask = None, **feature_params)\n",
    "# Create a mask image for drawing purposes\n",
    "mask = np.zeros_like(old_frame)\n",
    "while(1):\n",
    "    ret, frame = cap.read()\n",
    "    if not ret:\n",
    "        break\n",
    "    frame_gray = cv2.cvtColor(frame, cv2.COLOR_BGR2GRAY)\n",
    "    # calculate optical flow\n",
    "    p1, st, err = cv2.calcOpticalFlowPyrLK(old_gray, frame_gray, p0, None, **lk_params)\n",
    "    # Select good points\n",
    "    if p1 is not None:\n",
    "        good_new = p1[st==1]\n",
    "        good_old = p0[st==1]\n",
    "    # draw the tracks\n",
    "    for i, (new, old) in enumerate(zip(good_new, good_old)):\n",
    "        a, b = new.ravel()\n",
    "        c, d = old.ravel()\n",
    "        mask = cv2.line(mask, (int(a), int(b)), (int(c), int(d)), color[i].tolist(), 2)\n",
    "        frame = cv2.circle(frame, (int(a), int(b)), 5, color[i].tolist(), -1)\n",
    "    img = cv2.add(frame, mask)\n",
    "    cv2.imshow('frame', img)\n",
    "    k = cv2.waitKey(30) & 0xff\n",
    "    if k == 27:\n",
    "        break\n",
    "    # Now update the previous frame and previous points\n",
    "    old_gray = frame_gray.copy()\n",
    "    p0 = good_new.reshape(-1, 1, 2)\n",
    "cv2.destroyAllWindows()\n",
    "cap.release()"
   ]
  },
  {
   "cell_type": "markdown",
   "id": "162d7de3",
   "metadata": {},
   "source": [
    "## Part3 \n",
    "برای این بخش ابتدا داده ها رو میخوانیم و در حین خواندن محدوده صورت انها را استخراج میکنیم.\n",
    "پس از اینکه تمام تصاویر یک ویدئو خوانده شد هیستوگرام انهارا متناسب با توضیحات استخراج میکنیم و انرا به طبقه بند خود میدهیم.\n",
    "متاسفانه دقتی بیش از 66 درصد در این آزمایش حاصل نشد که همانطور که در کلاس هم با تی ای ها بحث شد علت پیدا نگردید:( ل"
   ]
  },
  {
   "cell_type": "code",
   "execution_count": 3,
   "id": "e676cd85",
   "metadata": {},
   "outputs": [
    {
     "name": "stdout",
     "output_type": "stream",
     "text": [
      "(14, 8)\n",
      "(12, 8)\n",
      "(16, 8)\n",
      "(32, 8)\n",
      "(12, 8)\n",
      "(15, 8)\n",
      "(17, 8)\n",
      "(20, 8)\n",
      "(16, 8)\n",
      "(22, 8)\n",
      "(32, 8)\n",
      "(25, 8)\n",
      "(22, 8)\n",
      "(24, 8)\n",
      "(27, 8)\n",
      "(11, 8)\n",
      "(21, 8)\n",
      "(16, 8)\n",
      "(16, 8)\n",
      "(20, 8)\n",
      "(21, 8)\n",
      "(28, 8)\n",
      "(42, 8)\n",
      "(24, 8)\n",
      "(18, 8)\n",
      "(32, 8)\n",
      "(26, 8)\n",
      "(25, 8)\n",
      "(12, 8)\n",
      "(18, 8)\n"
     ]
    }
   ],
   "source": [
    "hist_happy = []\n",
    "path = 'happy videos'\n",
    "counter = 0\n",
    "y=[]\n",
    "for file in os.listdir(path):\n",
    "    images = [] \n",
    "    for image in os.listdir(path+'/'+file):\n",
    "        img= io.imread(path+'/'+file+'/'+image, as_gray=True)[150:700,380:820]\n",
    "        images.append(img) \n",
    "        \n",
    "    n = len(images)\n",
    "    hists=[]\n",
    "    for i in range(n-1):\n",
    "        \n",
    "        flow = cv2.calcOpticalFlowFarneback(images[i],images[i+1], None, 0.5, 3, 15, 3, 5, 1.2, 0)\n",
    "        mag, ang = cv2.cartToPolar(flow[..., 0], flow[..., 1])\n",
    "        bins = np.linspace(0,2*np.pi,9)\n",
    "        hist= np.histogram(ang.ravel(), bins=bins)[0]\n",
    "        hists.append(hist)\n",
    "    hists = np.array(hists)\n",
    "    print(hists.shape)\n",
    "    res = np.concatenate((np.mean(hists, axis=0), np.max(hists, axis=0)))\n",
    "    hist_happy.append(res)                    \n",
    "    y.append(1)"
   ]
  },
  {
   "cell_type": "code",
   "execution_count": 4,
   "id": "e4b31b3a",
   "metadata": {},
   "outputs": [
    {
     "data": {
      "text/plain": [
       "(30, 16)"
      ]
     },
     "execution_count": 4,
     "metadata": {},
     "output_type": "execute_result"
    }
   ],
   "source": [
    "hist_happy = np.array(hist_happy)\n",
    "hist_happy.shape"
   ]
  },
  {
   "cell_type": "code",
   "execution_count": 5,
   "id": "8072c50d",
   "metadata": {},
   "outputs": [
    {
     "name": "stdout",
     "output_type": "stream",
     "text": [
      "(13, 8)\n",
      "(15, 8)\n",
      "(28, 8)\n",
      "(29, 8)\n",
      "(14, 8)\n",
      "(21, 8)\n",
      "(28, 8)\n",
      "(14, 8)\n",
      "(19, 8)\n",
      "(18, 8)\n",
      "(23, 8)\n",
      "(5, 8)\n",
      "(17, 8)\n",
      "(14, 8)\n",
      "(22, 8)\n",
      "(118, 8)\n",
      "(18, 8)\n",
      "(19, 8)\n",
      "(17, 8)\n",
      "(11, 8)\n",
      "(15, 8)\n",
      "(12, 8)\n",
      "(11, 8)\n",
      "(21, 8)\n",
      "(21, 8)\n",
      "(13, 8)\n",
      "(13, 8)\n",
      "(15, 8)\n",
      "(12, 8)\n",
      "(7, 8)\n"
     ]
    },
    {
     "data": {
      "text/plain": [
       "(30, 16)"
      ]
     },
     "execution_count": 5,
     "metadata": {},
     "output_type": "execute_result"
    }
   ],
   "source": [
    "hist_surprise = []\n",
    "path = 'surprise videos'\n",
    "counter = 0\n",
    "\n",
    "for file in os.listdir(path):\n",
    "    images = [] \n",
    "    for image in os.listdir(path+'/'+file):\n",
    "        img= io.imread(path+'/'+file+'/'+image, as_gray=True)[150:700,380:820]\n",
    "        images.append(img) \n",
    "        \n",
    "    n = len(images)\n",
    "    hists=[]\n",
    "    for i in range(n-1):\n",
    "        flow = cv2.calcOpticalFlowFarneback(images[i],images[i+1], None, 0.5, 3, 15, 3, 5, 1.2, 0)\n",
    "        mag, ang = cv2.cartToPolar(flow[..., 0], flow[..., 1])\n",
    "        bins = np.linspace(0,2*np.pi,9)\n",
    "        hist= np.histogram(ang.ravel(), bins=bins)[0]\n",
    "        hists.append(hist)\n",
    "    hists = np.array(hists)\n",
    "    print(hists.shape)\n",
    "    res = np.concatenate((np.mean(hists, axis=0), np.max(hists, axis=0)))\n",
    "    hist_surprise.append(res)     \n",
    "    y.append(0)\n",
    "hist_surprise = np.array(hist_surprise)\n",
    "hist_surprise.shape"
   ]
  },
  {
   "cell_type": "code",
   "execution_count": 16,
   "id": "2e340e64",
   "metadata": {},
   "outputs": [
    {
     "name": "stdout",
     "output_type": "stream",
     "text": [
      "(42, 16) (42,)\n",
      "(18, 16) (18,)\n"
     ]
    }
   ],
   "source": [
    "\n",
    "\n",
    "X = np.concatenate((hist_happy, hist_surprise))\n",
    "X_train, X_test, y_train, y_test = train_test_split(X,\n",
    "                                                    np.array(y),\n",
    "                                                    train_size=0.7,\n",
    "                                                    random_state=50)\n",
    "scaler = StandardScaler()\n",
    "scaler.fit(X_train)\n",
    "X_train = scaler.transform(X_train)\n",
    "\n",
    "scaler.fit(X_test)\n",
    "X_test = scaler.transform(X_test)\n",
    "print(X_train.shape , y_train.shape)\n",
    "print(X_test.shape , y_test.shape)"
   ]
  },
  {
   "cell_type": "code",
   "execution_count": 11,
   "id": "7de24cf2",
   "metadata": {},
   "outputs": [
    {
     "name": "stdout",
     "output_type": "stream",
     "text": [
      "(18,) (18,)\n",
      "acc= 0.6666666666666666\n",
      "[ 0  0  0 -1  0 -1  0  0  0  0 -1 -1  1 -1  0  0  0  0]\n"
     ]
    }
   ],
   "source": [
    "mySVM = svm.SVC(C=100)\n",
    "mySVM.fit(X_train, y_train.ravel())\n",
    "y_pred = mySVM.predict(X_test)\n",
    "Acc = accuracy_score(y_test, y_pred)\n",
    "\n",
    "print(y_pred.shape , y_test.shape)\n",
    "print('acc=',Acc)\n",
    "print( y_test - y_pred)"
   ]
  }
 ],
 "metadata": {
  "kernelspec": {
   "display_name": "Python 3 (ipykernel)",
   "language": "python",
   "name": "python3"
  },
  "language_info": {
   "codemirror_mode": {
    "name": "ipython",
    "version": 3
   },
   "file_extension": ".py",
   "mimetype": "text/x-python",
   "name": "python",
   "nbconvert_exporter": "python",
   "pygments_lexer": "ipython3",
   "version": "3.9.6"
  }
 },
 "nbformat": 4,
 "nbformat_minor": 5
}
